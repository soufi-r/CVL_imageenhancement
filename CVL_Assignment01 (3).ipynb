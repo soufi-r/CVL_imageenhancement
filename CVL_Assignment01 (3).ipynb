{
  "nbformat": 4,
  "nbformat_minor": 0,
  "metadata": {
    "colab": {
      "provenance": []
    },
    "kernelspec": {
      "name": "python3",
      "display_name": "Python 3"
    },
    "language_info": {
      "name": "python"
    }
  },
  "cells": [
    {
      "cell_type": "markdown",
      "source": [
        "#TASK 1\n",
        "Perform an implementation for image enhancement in any image types (blurred image, dark image, bright image, low-contrast image, etc).\n",
        "\n",
        "Create your notebook with name as \"CVL_Assignment01\" and upload it to your GitHub Project. You need to provide your GitHub link to the text editor in submission form."
      ],
      "metadata": {
        "id": "NZIHJEZJnBLt"
      }
    },
    {
      "cell_type": "markdown",
      "source": [
        "#Program"
      ],
      "metadata": {
        "id": "-Ydjq04WZJTg"
      }
    },
    {
      "cell_type": "markdown",
      "source": [
        "## Import Library"
      ],
      "metadata": {
        "id": "VrWyT50pnSup"
      }
    },
    {
      "cell_type": "code",
      "execution_count": null,
      "metadata": {
        "id": "kpYMF6cxX8Uc"
      },
      "outputs": [],
      "source": [
        "from google.colab import drive\n",
        "import cv2\n",
        "import numpy as np\n",
        "import matplotlib.pyplot as plt\n",
        "from google.colab.patches import cv2_imshow"
      ]
    },
    {
      "cell_type": "markdown",
      "source": [
        "## Load the data from Drive"
      ],
      "metadata": {
        "id": "dTypMX6qZZcQ"
      }
    },
    {
      "cell_type": "code",
      "source": [
        "drive.mount('/content/drive')\n",
        "#!ls \"/content/drive/My Drive/\" #untuk menampilkan list dari drive\n",
        "\n",
        "# load image\n",
        "img = cv2.imread('/content/drive/My Drive/17340128845861609620620415790722.jpg')\n",
        "cv2_imshow(img)"
      ],
      "metadata": {
        "id": "lKt5QaonZSHT"
      },
      "execution_count": null,
      "outputs": []
    },
    {
      "cell_type": "markdown",
      "source": [
        "## Main program"
      ],
      "metadata": {
        "id": "wMz4AHbCZKRf"
      }
    },
    {
      "cell_type": "markdown",
      "source": [
        "### Resize image"
      ],
      "metadata": {
        "id": "nr5-ByMontIb"
      }
    },
    {
      "cell_type": "code",
      "source": [
        "#resize image\n",
        "# Dapatkan ukuran asli\n",
        "(original_height, original_width) = img.shape[:2]\n",
        "\n",
        "# Tentukan lebar baru yang diinginkan\n",
        "new_width = 400\n",
        "\n",
        "# Hitung rasio aspek dan tinggi baru\n",
        "aspect_ratio = original_height / original_width\n",
        "new_height = int(new_width * aspect_ratio)\n",
        "\n",
        "# Ubah ukuran gambar dengan mempertahankan aspek rasio\n",
        "aspect_ratio_resized_image = cv2.resize(img, (new_width, new_height), interpolation=cv2.INTER_AREA)\n",
        "\n",
        "print(f\"\\n--- GAMBAR RESIZE DENGAN ASPEK RASIO (Lebar: {new_width}px) ---\")\n",
        "cv2_imshow(aspect_ratio_resized_image)"
      ],
      "metadata": {
        "id": "0upHNipknwBD"
      },
      "execution_count": null,
      "outputs": []
    },
    {
      "cell_type": "markdown",
      "source": [
        "### Enhancement for Blurred Image"
      ],
      "metadata": {
        "id": "I07ZjE2KoFyQ"
      }
    },
    {
      "cell_type": "markdown",
      "source": [
        "#### sharpening using"
      ],
      "metadata": {
        "id": "Qpl859O1Cswu"
      }
    },
    {
      "cell_type": "code",
      "source": [
        "# High pass kernel for sharpening :\n",
        "kernel_sharpen = np.array([[0, -1, 0],\n",
        "                           [-1, 5,-1],\n",
        "                           [0, -1, 0]])\n",
        "sharpened = cv2.filter2D(aspect_ratio_resized_image, -1, kernel_sharpen)\n",
        "kernel_sharpen1 = np.array([[-1, -1, -1],\n",
        "                           [-1, 9,-1],\n",
        "                           [-1, -1, -1]])\n",
        "sharpened1 = cv2.filter2D(aspect_ratio_resized_image, -1, kernel_sharpen)\n",
        "#show_image(\"Enhanced (Sharpened)\", sharpened)\n",
        "print(\"====sharpened image using sharpened======\")\n",
        "cv2_imshow(sharpened)\n",
        "print(\"====sharpened image using sharpened======\")\n",
        "cv2_imshow(sharpened1)"
      ],
      "metadata": {
        "id": "3LDTazEcCwuj"
      },
      "execution_count": null,
      "outputs": []
    },
    {
      "cell_type": "markdown",
      "source": [
        "####sharpening using DOG filter"
      ],
      "metadata": {
        "id": "RDwy5gg9CxNX"
      }
    },
    {
      "cell_type": "code",
      "source": [
        "# DoG Filter for sharpening:\n",
        "sigma1 = 1\n",
        "sigma2 = 3\n",
        "\n",
        "g1 = cv2.GaussianBlur(aspect_ratio_resized_image, (0,0), sigma1)\n",
        "g2 = cv2.GaussianBlur(aspect_ratio_resized_image, (0,0), sigma2)\n",
        "\n",
        "dog = g1 - g2\n",
        "dog_norm = cv2.normalize(dog, None, 0, 255, cv2.NORM_MINMAX).astype(np.uint8)\n",
        "\n",
        "# Sharpen blurred image by adding DoG\n",
        "enhanced = cv2.addWeighted(aspect_ratio_resized_image, 1.0, dog_norm, 0.05, 0)\n",
        "\n",
        "# show_image(\"DoG Filter (Edge Map)\", dog_norm)\n",
        "# show_image(\"Enhanced with DoG\", enhanced)\n",
        "print(\"==== DoG Filter (edge map)======\")\n",
        "cv2_imshow(dog_norm)\n",
        "print(\"====sharpened image using DoG Filter======\")\n",
        "cv2_imshow(enhanced)"
      ],
      "metadata": {
        "id": "XMePZI3YoJ14"
      },
      "execution_count": null,
      "outputs": []
    },
    {
      "cell_type": "markdown",
      "source": [
        "####sharpening using laplacian filter"
      ],
      "metadata": {
        "id": "0cObmC8iEV-f"
      }
    },
    {
      "cell_type": "code",
      "source": [
        "# Laplacian Filter for sharpening:\n",
        "lap = cv2.Laplacian(aspect_ratio_resized_image, cv2.CV_64F)\n",
        "lap = cv2.convertScaleAbs(lap)\n",
        "sharp2 = cv2.convertScaleAbs(aspect_ratio_resized_image - lap)\n",
        "sharpened= cv2.addWeighted(aspect_ratio_resized_image, 1.0, lap, -0.4,0)\n",
        "print(\"====sharpened image using Laplacian Filter======\")\n",
        "cv2_imshow(lap)\n",
        "print(\"====sharpened image using Laplacian Filter======\")\n",
        "cv2_imshow(sharp2)\n",
        "print(\"====sharpened image using Laplacian Filter======\")\n",
        "cv2_imshow(sharpened)"
      ],
      "metadata": {
        "id": "S2_V9WpQEcHE"
      },
      "execution_count": null,
      "outputs": []
    },
    {
      "cell_type": "markdown",
      "source": [
        "### Enhancement for Dark/Bright Image"
      ],
      "metadata": {
        "id": "GCOrijNSoMy4"
      }
    },
    {
      "cell_type": "code",
      "source": [
        "dark_img = cv2.convertScaleAbs(aspect_ratio_resized_image, alpha=0.5, beta=0)  # gambar digelapkan dulu\n",
        "print(\"====dark image======\")\n",
        "cv2_imshow(dark_img)\n",
        "\n",
        "bright_enhanced = cv2.convertScaleAbs(dark_img, alpha=1.5, beta=50)\n",
        "print(\"====bright enhanced image======\")\n",
        "cv2_imshow(bright_enhanced)\n",
        "\n",
        "\n",
        "\n",
        "bright_img = cv2.convertScaleAbs(aspect_ratio_resized_image, alpha=1.5, beta=70) #gambar diterangkan dulu\n",
        "print(\"====bright image======\")\n",
        "cv2_imshow(bright_img)\n",
        "\n",
        "dark_enhanced = cv2.convertScaleAbs(bright_img, alpha=0.7, beta=-50)\n",
        "print(\"====dark enhanced image======\")\n",
        "cv2_imshow(dark_enhanced)"
      ],
      "metadata": {
        "id": "A2h__Ns0oQ5j"
      },
      "execution_count": null,
      "outputs": []
    },
    {
      "cell_type": "code",
      "source": [
        "# Convert to YCrCb (agar hanya Y/luminance yang diproses)\n",
        "ycrcb = cv2.cvtColor(dark_img, cv2.COLOR_BGR2YCrCb)\n",
        "y, cr, cb = cv2.split(ycrcb)\n",
        "\n",
        "# 1. Histogram Equalization (HE)\n",
        "y_he = cv2.equalizeHist(y)\n",
        "he_img = cv2.merge([y_he, cr, cb])\n",
        "he_img = cv2.cvtColor(he_img, cv2.COLOR_YCrCb2BGR)\n",
        "print(\"====Enhanced - Histogram Equalization (HE)======\")\n",
        "cv2_imshow(he_img)"
      ],
      "metadata": {
        "id": "p_uC39GSR95m"
      },
      "execution_count": null,
      "outputs": []
    },
    {
      "cell_type": "code",
      "source": [
        "# 2. Adaptive Histogram Equalization (AHE)\n",
        "# Dengan tileGridSize besar supaya lebih jelas efeknya\n",
        "clahe_ahe = cv2.createCLAHE(clipLimit=40.0, tileGridSize=(8,8))\n",
        "y_ahe = clahe_ahe.apply(y)\n",
        "ahe_img = cv2.merge([y_ahe, cr, cb])\n",
        "ahe_img = cv2.cvtColor(ahe_img, cv2.COLOR_YCrCb2BGR)\n",
        "print(\"====Enhanced - Adaptive Histogram Equalization (AHE)======\")\n",
        "cv2_imshow(ahe_img)"
      ],
      "metadata": {
        "id": "zX5h5zE5SFeT"
      },
      "execution_count": null,
      "outputs": []
    },
    {
      "cell_type": "code",
      "source": [
        "# 3. Modified AHE (MAHE) -> implementasi dengan CLAHE normal\n",
        "clahe_mahe = cv2.createCLAHE(clipLimit=3.0, tileGridSize=(8,8))\n",
        "y_mahe = clahe_mahe.apply(y)\n",
        "mahe_img = cv2.merge([y_mahe, cr, cb])\n",
        "mahe_img = cv2.cvtColor(mahe_img, cv2.COLOR_YCrCb2BGR)\n",
        "print(\"====Enhanced - Modified AHE (MAHE / CLAHE)======\")\n",
        "cv2_imshow(mahe_img)"
      ],
      "metadata": {
        "id": "obBdOG8vSLdV"
      },
      "execution_count": null,
      "outputs": []
    },
    {
      "cell_type": "markdown",
      "source": [
        "### Enhancement for Bright Image"
      ],
      "metadata": {
        "id": "S74DOAMtoTwF"
      }
    },
    {
      "cell_type": "code",
      "source": [],
      "metadata": {
        "id": "lxG45i3noW2y"
      },
      "execution_count": null,
      "outputs": []
    },
    {
      "cell_type": "markdown",
      "source": [
        "### Enhancement for Low Contrast Image"
      ],
      "metadata": {
        "id": "EPLU7iMioa9w"
      }
    },
    {
      "cell_type": "code",
      "source": [
        "low_contrast = cv2.convertScaleAbs(aspect_ratio_resized_image, alpha=0.5, beta=50) #gambar di low contrastkan dulu\n",
        "print(\"====low contrast image======\")\n",
        "cv2_imshow(low_contrast)\n",
        "\n",
        "# Histogram Equalization (YCrCb color space)\n",
        "ycrcb = cv2.cvtColor(low_contrast, cv2.COLOR_BGR2YCrCb)\n",
        "y, cr, cb = cv2.split(ycrcb)\n",
        "y_eq = cv2.equalizeHist(y)\n",
        "ycrcb_eq = cv2.merge([y_eq, cr, cb])\n",
        "contrast_enhanced = cv2.cvtColor(ycrcb_eq, cv2.COLOR_YCrCb2BGR)\n",
        "print(\"====contrast enhanced image======\")\n",
        "cv2_imshow(contrast_enhanced)"
      ],
      "metadata": {
        "id": "Ao9vT6KzZK1h"
      },
      "execution_count": null,
      "outputs": []
    }
  ]
}